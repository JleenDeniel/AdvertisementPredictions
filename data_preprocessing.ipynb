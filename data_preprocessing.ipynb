{
 "cells": [
  {
   "cell_type": "markdown",
   "metadata": {},
   "source": [
    "**Есть исторические данные(события взаимодействия пользователей с баннерами на сайте).\n",
    "Формат данных :\n",
    "date - дата когда было произведено действие.\n",
    "banner_id - идентификатор баннера\n",
    "adv_bid - ставка за 1 показ(в рублях)\n",
    "placement - идентификатор страницы на которой произошло взаимодействие\n",
    "user_id - id пользователя\n",
    "action_type - тип события\n",
    "Нужно сделать скрипт(подойдет любой вариант как и jupyter notebook, так и просто скрипт на python) который бы на вход принимал 2 параметра - ставку за 1 показ и  идентификатор страницы. А в результате выводил предсказание о том сколько показов получит этот баннер за  следующий день.**"
   ]
  },
  {
   "cell_type": "code",
   "execution_count": 266,
   "metadata": {},
   "outputs": [],
   "source": [
    "import pandas as pd\n",
    "import numpy as np\n",
    "import seaborn as sns\n",
    "import matplotlib.pyplot as plt"
   ]
  },
  {
   "cell_type": "code",
   "execution_count": 284,
   "metadata": {},
   "outputs": [],
   "source": [
    "from sklearn.model_selection import train_test_split\n",
    "from sklearn.linear_model import LinearRegression\n",
    "from sklearn.metrics import mean_absolute_error, mean_squared_error, median_absolute_error, r2_score\n",
    "from sklearn.linear_model import RidgeCV\n",
    "from sklearn.linear_model import SGDRegressor\n",
    "from sklearn.preprocessing import StandardScaler"
   ]
  },
  {
   "cell_type": "code",
   "execution_count": 299,
   "metadata": {},
   "outputs": [],
   "source": [
    "start_data = pd.read_csv(\"test_data_3.csv\")"
   ]
  },
  {
   "cell_type": "code",
   "execution_count": 300,
   "metadata": {},
   "outputs": [
    {
     "data": {
      "text/html": [
       "<div>\n",
       "<style scoped>\n",
       "    .dataframe tbody tr th:only-of-type {\n",
       "        vertical-align: middle;\n",
       "    }\n",
       "\n",
       "    .dataframe tbody tr th {\n",
       "        vertical-align: top;\n",
       "    }\n",
       "\n",
       "    .dataframe thead th {\n",
       "        text-align: right;\n",
       "    }\n",
       "</style>\n",
       "<table border=\"1\" class=\"dataframe\">\n",
       "  <thead>\n",
       "    <tr style=\"text-align: right;\">\n",
       "      <th></th>\n",
       "      <th>date</th>\n",
       "      <th>banner_id</th>\n",
       "      <th>adv_bid</th>\n",
       "      <th>placement</th>\n",
       "      <th>user_id</th>\n",
       "    </tr>\n",
       "    <tr>\n",
       "      <th>action_type</th>\n",
       "      <th></th>\n",
       "      <th></th>\n",
       "      <th></th>\n",
       "      <th></th>\n",
       "      <th></th>\n",
       "    </tr>\n",
       "  </thead>\n",
       "  <tbody>\n",
       "    <tr>\n",
       "      <th>click</th>\n",
       "      <td>3614</td>\n",
       "      <td>3614</td>\n",
       "      <td>3614</td>\n",
       "      <td>3614</td>\n",
       "      <td>3614</td>\n",
       "    </tr>\n",
       "    <tr>\n",
       "      <th>favorite</th>\n",
       "      <td>58</td>\n",
       "      <td>58</td>\n",
       "      <td>58</td>\n",
       "      <td>58</td>\n",
       "      <td>58</td>\n",
       "    </tr>\n",
       "    <tr>\n",
       "      <th>impression</th>\n",
       "      <td>75314</td>\n",
       "      <td>75314</td>\n",
       "      <td>75314</td>\n",
       "      <td>75314</td>\n",
       "      <td>75314</td>\n",
       "    </tr>\n",
       "    <tr>\n",
       "      <th>to_cart</th>\n",
       "      <td>84</td>\n",
       "      <td>84</td>\n",
       "      <td>84</td>\n",
       "      <td>84</td>\n",
       "      <td>84</td>\n",
       "    </tr>\n",
       "    <tr>\n",
       "      <th>view</th>\n",
       "      <td>278713</td>\n",
       "      <td>278713</td>\n",
       "      <td>278713</td>\n",
       "      <td>278713</td>\n",
       "      <td>278713</td>\n",
       "    </tr>\n",
       "  </tbody>\n",
       "</table>\n",
       "</div>"
      ],
      "text/plain": [
       "               date  banner_id  adv_bid  placement  user_id\n",
       "action_type                                                \n",
       "click          3614       3614     3614       3614     3614\n",
       "favorite         58         58       58         58       58\n",
       "impression    75314      75314    75314      75314    75314\n",
       "to_cart          84         84       84         84       84\n",
       "view         278713     278713   278713     278713   278713"
      ]
     },
     "execution_count": 300,
     "metadata": {},
     "output_type": "execute_result"
    }
   ],
   "source": [
    "start_data.groupby(['action_type']).count()"
   ]
  },
  {
   "cell_type": "markdown",
   "metadata": {},
   "source": [
    "В первую очередь понятно что совсем не нужны данные о пользователях.\n",
    "Конечно, также, видно, что в данных есть повторы, но я не удаляю их потому что предположу, что один и тот же человек может несколько раз увидеть/нажать/добавить в козину один и тот же баннер"
   ]
  },
  {
   "cell_type": "code",
   "execution_count": 301,
   "metadata": {},
   "outputs": [],
   "source": [
    "start_data.drop(\"user_id\", axis=1,inplace=True)"
   ]
  },
  {
   "cell_type": "code",
   "execution_count": 302,
   "metadata": {},
   "outputs": [
    {
     "data": {
      "text/html": [
       "<div>\n",
       "<style scoped>\n",
       "    .dataframe tbody tr th:only-of-type {\n",
       "        vertical-align: middle;\n",
       "    }\n",
       "\n",
       "    .dataframe tbody tr th {\n",
       "        vertical-align: top;\n",
       "    }\n",
       "\n",
       "    .dataframe thead th {\n",
       "        text-align: right;\n",
       "    }\n",
       "</style>\n",
       "<table border=\"1\" class=\"dataframe\">\n",
       "  <thead>\n",
       "    <tr style=\"text-align: right;\">\n",
       "      <th></th>\n",
       "      <th>date</th>\n",
       "      <th>banner_id</th>\n",
       "      <th>adv_bid</th>\n",
       "      <th>placement</th>\n",
       "      <th>action_type</th>\n",
       "    </tr>\n",
       "  </thead>\n",
       "  <tbody>\n",
       "    <tr>\n",
       "      <th>0</th>\n",
       "      <td>2021-04-07</td>\n",
       "      <td>11089466256888358077</td>\n",
       "      <td>0.20</td>\n",
       "      <td>3</td>\n",
       "      <td>view</td>\n",
       "    </tr>\n",
       "    <tr>\n",
       "      <th>1</th>\n",
       "      <td>2021-04-07</td>\n",
       "      <td>12786233533693795083</td>\n",
       "      <td>1.20</td>\n",
       "      <td>2</td>\n",
       "      <td>view</td>\n",
       "    </tr>\n",
       "    <tr>\n",
       "      <th>2</th>\n",
       "      <td>2021-04-07</td>\n",
       "      <td>3597813970319619018</td>\n",
       "      <td>0.07</td>\n",
       "      <td>7</td>\n",
       "      <td>impression</td>\n",
       "    </tr>\n",
       "    <tr>\n",
       "      <th>3</th>\n",
       "      <td>2021-04-07</td>\n",
       "      <td>12786233533693795083</td>\n",
       "      <td>1.20</td>\n",
       "      <td>2</td>\n",
       "      <td>view</td>\n",
       "    </tr>\n",
       "    <tr>\n",
       "      <th>4</th>\n",
       "      <td>2021-04-07</td>\n",
       "      <td>12786233533693795083</td>\n",
       "      <td>1.20</td>\n",
       "      <td>2</td>\n",
       "      <td>view</td>\n",
       "    </tr>\n",
       "  </tbody>\n",
       "</table>\n",
       "</div>"
      ],
      "text/plain": [
       "         date             banner_id  adv_bid  placement action_type\n",
       "0  2021-04-07  11089466256888358077     0.20          3        view\n",
       "1  2021-04-07  12786233533693795083     1.20          2        view\n",
       "2  2021-04-07   3597813970319619018     0.07          7  impression\n",
       "3  2021-04-07  12786233533693795083     1.20          2        view\n",
       "4  2021-04-07  12786233533693795083     1.20          2        view"
      ]
     },
     "execution_count": 302,
     "metadata": {},
     "output_type": "execute_result"
    }
   ],
   "source": [
    "start_data.head()"
   ]
  },
  {
   "cell_type": "markdown",
   "metadata": {},
   "source": [
    "Посмотрим о чем вообще датасет"
   ]
  },
  {
   "cell_type": "code",
   "execution_count": 297,
   "metadata": {},
   "outputs": [
    {
     "name": "stdout",
     "output_type": "stream",
     "text": [
      "12 10 4\n"
     ]
    }
   ],
   "source": [
    "print(len(start_data.banner_id.unique()),\n",
    "len(start_data.adv_bid.unique()), len(start_data.date.unique()))"
   ]
  },
  {
   "cell_type": "code",
   "execution_count": 305,
   "metadata": {},
   "outputs": [],
   "source": [
    "data = start_data.groupby([\"banner_id\", \"date\"])"
   ]
  },
  {
   "cell_type": "code",
   "execution_count": null,
   "metadata": {},
   "outputs": [],
   "source": [
    "array = []\n",
    "for banner_id, banner_df in data:\n",
    "    print(banner_id)\n",
    "    #print(banner_df)\n",
    "    print(\"Количество показов:\", len(banner_df), banner_df[\"adv_bid\"].min(), banner_df[\"placement\"].min())\n",
    "    new_row = [banner_df[\"adv_bid\"].min(), banner_df[\"placement\"].min(), len(banner_df)]\n",
    "    array.append(new_row)\n",
    "    print(type(new_row))\n",
    "processed_set = pd.DataFrame(array)"
   ]
  },
  {
   "cell_type": "markdown",
   "metadata": {},
   "source": [
    "Убираю слишком маленькие значения из выборки\n"
   ]
  },
  {
   "cell_type": "code",
   "execution_count": 248,
   "metadata": {},
   "outputs": [],
   "source": [
    "processed_set = processed_set[processed_set[2] > 66]"
   ]
  },
  {
   "cell_type": "markdown",
   "metadata": {},
   "source": [
    "Заполняю тренировочный датасет данными (для одних и тех же ставок на одной и той же странице добавляю среднее)"
   ]
  },
  {
   "cell_type": "code",
   "execution_count": 259,
   "metadata": {},
   "outputs": [
    {
     "name": "stdout",
     "output_type": "stream",
     "text": [
      "        0  1     2\n",
      "13  0.045  7  2885\n",
      "2885.0\n",
      "       0  1      2\n",
      "6   0.07  7  12693\n",
      "7   0.07  7  12679\n",
      "8   0.07  7  12601\n",
      "9   0.07  7  12730\n",
      "10  0.07  7   6762\n",
      "11  0.07  7   5284\n",
      "12  0.07  7   5285\n",
      "14  0.07  7   3549\n",
      "8947.875\n",
      "      0  1      2\n",
      "2   0.2  3  20470\n",
      "21  0.2  3  16697\n",
      "23  0.2  3  25284\n",
      "24  0.2  3   9264\n",
      "25  0.2  3  10300\n",
      "16403.0\n",
      "      0   1    2\n",
      "20  0.2  12  299\n",
      "299.0\n",
      "      0  1      2\n",
      "0   0.3  2   8051\n",
      "1   0.3  2  11763\n",
      "15  0.3  2   2835\n",
      "16  0.3  2  13553\n",
      "17  0.3  2   6515\n",
      "18  0.3  2   9028\n",
      "19  0.3  2  10662\n",
      "8915.285714285714\n",
      "      0  1     2\n",
      "22  0.3  3  6483\n",
      "6483.0\n",
      "        0  1      2\n",
      "30  0.601  1  10219\n",
      "31  0.601  1  10024\n",
      "33  0.601  1   9824\n",
      "34  0.601  1   9986\n",
      "10013.25\n",
      "     0   1      2\n",
      "4  0.8  12   8711\n",
      "5  0.8  12  11218\n",
      "9964.5\n",
      "       0  1      2\n",
      "35  0.84  1  11489\n",
      "36  0.84  1  11724\n",
      "37  0.84  1  11677\n",
      "38  0.84  1  11735\n",
      "11656.25\n",
      "      0  1      2\n",
      "26  1.2  2  10196\n",
      "27  1.2  2   6630\n",
      "28  1.2  2   8609\n",
      "8478.333333333334\n"
     ]
    }
   ],
   "source": [
    "arr = []\n",
    "for set_id, set_df in processed_set.groupby([0,1]):\n",
    "    print(set_df)\n",
    "    print(set_df[2].mean())\n",
    "    new_row = [set_df.iloc[0,0], set_df[1].iloc[0], set_df[2].mean()]\n",
    "    arr.append(new_row)\n",
    "processed_set_ = pd.DataFrame(arr)"
   ]
  },
  {
   "cell_type": "code",
   "execution_count": 304,
   "metadata": {},
   "outputs": [
    {
     "data": {
      "text/html": [
       "<div>\n",
       "<style scoped>\n",
       "    .dataframe tbody tr th:only-of-type {\n",
       "        vertical-align: middle;\n",
       "    }\n",
       "\n",
       "    .dataframe tbody tr th {\n",
       "        vertical-align: top;\n",
       "    }\n",
       "\n",
       "    .dataframe thead th {\n",
       "        text-align: right;\n",
       "    }\n",
       "</style>\n",
       "<table border=\"1\" class=\"dataframe\">\n",
       "  <thead>\n",
       "    <tr style=\"text-align: right;\">\n",
       "      <th></th>\n",
       "      <th>0</th>\n",
       "      <th>1</th>\n",
       "      <th>2</th>\n",
       "    </tr>\n",
       "  </thead>\n",
       "  <tbody>\n",
       "    <tr>\n",
       "      <th>0</th>\n",
       "      <td>0.045</td>\n",
       "      <td>7</td>\n",
       "      <td>2885.000000</td>\n",
       "    </tr>\n",
       "    <tr>\n",
       "      <th>1</th>\n",
       "      <td>0.070</td>\n",
       "      <td>7</td>\n",
       "      <td>8947.875000</td>\n",
       "    </tr>\n",
       "    <tr>\n",
       "      <th>2</th>\n",
       "      <td>0.200</td>\n",
       "      <td>3</td>\n",
       "      <td>16403.000000</td>\n",
       "    </tr>\n",
       "    <tr>\n",
       "      <th>3</th>\n",
       "      <td>0.200</td>\n",
       "      <td>12</td>\n",
       "      <td>299.000000</td>\n",
       "    </tr>\n",
       "    <tr>\n",
       "      <th>4</th>\n",
       "      <td>0.300</td>\n",
       "      <td>2</td>\n",
       "      <td>8915.285714</td>\n",
       "    </tr>\n",
       "    <tr>\n",
       "      <th>5</th>\n",
       "      <td>0.300</td>\n",
       "      <td>3</td>\n",
       "      <td>6483.000000</td>\n",
       "    </tr>\n",
       "    <tr>\n",
       "      <th>6</th>\n",
       "      <td>0.601</td>\n",
       "      <td>1</td>\n",
       "      <td>10013.250000</td>\n",
       "    </tr>\n",
       "    <tr>\n",
       "      <th>7</th>\n",
       "      <td>0.800</td>\n",
       "      <td>12</td>\n",
       "      <td>9964.500000</td>\n",
       "    </tr>\n",
       "    <tr>\n",
       "      <th>8</th>\n",
       "      <td>0.840</td>\n",
       "      <td>1</td>\n",
       "      <td>11656.250000</td>\n",
       "    </tr>\n",
       "    <tr>\n",
       "      <th>9</th>\n",
       "      <td>1.200</td>\n",
       "      <td>2</td>\n",
       "      <td>8478.333333</td>\n",
       "    </tr>\n",
       "  </tbody>\n",
       "</table>\n",
       "</div>"
      ],
      "text/plain": [
       "       0   1             2\n",
       "0  0.045   7   2885.000000\n",
       "1  0.070   7   8947.875000\n",
       "2  0.200   3  16403.000000\n",
       "3  0.200  12    299.000000\n",
       "4  0.300   2   8915.285714\n",
       "5  0.300   3   6483.000000\n",
       "6  0.601   1  10013.250000\n",
       "7  0.800  12   9964.500000\n",
       "8  0.840   1  11656.250000\n",
       "9  1.200   2   8478.333333"
      ]
     },
     "execution_count": 304,
     "metadata": {},
     "output_type": "execute_result"
    }
   ],
   "source": [
    "processed_set_"
   ]
  },
  {
   "cell_type": "code",
   "execution_count": 261,
   "metadata": {},
   "outputs": [],
   "source": [
    "X = processed_set_.drop(2, axis=1)\n",
    "Y = processed_set_[2]"
   ]
  },
  {
   "cell_type": "code",
   "execution_count": 262,
   "metadata": {},
   "outputs": [],
   "source": [
    "x_train, x_validation, y_train, y_validation = train_test_split(X, Y, random_state=13)"
   ]
  },
  {
   "cell_type": "code",
   "execution_count": 263,
   "metadata": {},
   "outputs": [],
   "source": [
    "model = LinearRegression(normalize=True).fit(x_train, y_train)"
   ]
  },
  {
   "cell_type": "code",
   "execution_count": 264,
   "metadata": {},
   "outputs": [
    {
     "data": {
      "text/plain": [
       "-0.2943373083296419"
      ]
     },
     "execution_count": 264,
     "metadata": {},
     "output_type": "execute_result"
    }
   ],
   "source": [
    "model.score(x_validation, y_validation)"
   ]
  },
  {
   "cell_type": "code",
   "execution_count": 277,
   "metadata": {},
   "outputs": [],
   "source": [
    "predictions = model.predict(x_train)"
   ]
  },
  {
   "cell_type": "code",
   "execution_count": 283,
   "metadata": {},
   "outputs": [
    {
     "name": "stdout",
     "output_type": "stream",
     "text": [
      "1     8947.875000\n",
      "4     8915.285714\n",
      "7     9964.500000\n",
      "8    11656.250000\n",
      "9     8478.333333\n",
      "0     2885.000000\n",
      "2    16403.000000\n",
      "Name: 2, dtype: float64\n",
      "[ 8680.20139359 10281.77159962  7789.29436445 10967.78106727\n",
      " 10948.01832795  8661.69454003  9921.48275472]\n",
      "2746.5329771372667\n"
     ]
    }
   ],
   "source": [
    "mae = mean_absolute_error(y_train, predictions)\n",
    "print(y_train)\n",
    "print(predictions)\n",
    "print(mae)"
   ]
  },
  {
   "cell_type": "markdown",
   "metadata": {},
   "source": [
    "Попробую постороить регерессию еще одним спобом"
   ]
  },
  {
   "cell_type": "code",
   "execution_count": 285,
   "metadata": {},
   "outputs": [],
   "source": [
    "scaler = StandardScaler()\n",
    "scaler.fit(processed_set_.drop(2, axis=1)) \n",
    "scaled_df = scaler.transform(processed_set_.drop(2, axis=1))"
   ]
  },
  {
   "cell_type": "code",
   "execution_count": 293,
   "metadata": {},
   "outputs": [
    {
     "name": "stdout",
     "output_type": "stream",
     "text": [
      "RMAE: 54.230594656134286\n"
     ]
    }
   ],
   "source": [
    "linear_regression_model = SGDRegressor(tol=.01, eta0=.1) \n",
    "linear_regression_model.fit(scaled_df, Y)\n",
    "predictions = linear_regression_model.predict(scaled_df)\n",
    "mae = mean_absolute_error(Y, predictions) \n",
    "print(\"RMAE: {}\".format(np.sqrt(mae)))"
   ]
  },
  {
   "cell_type": "code",
   "execution_count": 294,
   "metadata": {},
   "outputs": [
    {
     "name": "stdout",
     "output_type": "stream",
     "text": [
      "1     8947.875000\n",
      "4     8915.285714\n",
      "7     9964.500000\n",
      "8    11656.250000\n",
      "9     8478.333333\n",
      "0     2885.000000\n",
      "2    16403.000000\n",
      "Name: 2, dtype: float64\n",
      "[ 6666.72076302  6711.16743557  8954.23992101  4427.35289762\n",
      "  9635.01405826  9132.02661122 10673.13944282  5494.07303886\n",
      " 11098.04963241 11235.09427011]\n"
     ]
    }
   ],
   "source": [
    "print(y_train)\n",
    "print(predictions)"
   ]
  },
  {
   "cell_type": "markdown",
   "metadata": {},
   "source": [
    "Мне не нравятся полученные результаты, лучше использовать первую модель"
   ]
  }
 ],
 "metadata": {
  "kernelspec": {
   "display_name": "Python 3",
   "language": "python",
   "name": "python3"
  },
  "language_info": {
   "codemirror_mode": {
    "name": "ipython",
    "version": 3
   },
   "file_extension": ".py",
   "mimetype": "text/x-python",
   "name": "python",
   "nbconvert_exporter": "python",
   "pygments_lexer": "ipython3",
   "version": "3.7.6"
  }
 },
 "nbformat": 4,
 "nbformat_minor": 4
}
